{
 "cells": [
  {
   "cell_type": "markdown",
   "id": "e4d9f5ad-a03e-4f2b-881b-323af4d4c3ee",
   "metadata": {},
   "source": [
    "# Random snippets: Linux"
   ]
  },
  {
   "cell_type": "code",
   "execution_count": null,
   "id": "1f7fbac7-24b3-4686-919b-c67e4fbbb990",
   "metadata": {},
   "outputs": [],
   "source": [
    "#On Jhub\n",
    "$ ssh jj19@farm5-login.internal.sanger.ac.uk"
   ]
  },
  {
   "cell_type": "code",
   "execution_count": null,
   "id": "ea86efca-5237-4c5a-946c-26185a1df9da",
   "metadata": {},
   "outputs": [],
   "source": [
    "#View a BAM file (have samtools) WARNING: WILL SHOW WHOLE FILE\n",
    "$ samtools view bamfile.bam\n",
    "\n",
    "#View start of BAM file\n",
    "$ samtools view bamfile.bam | head\n",
    "\n",
    "#View other file formats (including .fa)\n",
    "$ cat filename.fa\n",
    "\n",
    "#To choose number of characters/lines (1000 characters)\n",
    "$ cat filename.fa | head --bytes 1000"
   ]
  },
  {
   "cell_type": "code",
   "execution_count": null,
   "id": "e4be771f-60cb-47ad-9710-9f2e8cf8b754",
   "metadata": {},
   "outputs": [],
   "source": [
    "#Git\n",
    "#Make git folder\n",
    "$ git init\n",
    "\n",
    "#Make git ignore (add file names you will want to ignore, usually *.ipynb_checkpoints)\n",
    "$ nano .gitignore\n",
    "\n",
    "#Add all changes then commit all changes\n",
    "$ git add .\n",
    "$ git commit -m \"changes made\"\n",
    "\n",
    "#To check status of git changes\n",
    "$ git status\n",
    "\n",
    "#Create remote on github.com\n",
    "#Create private repository on github.com and copy the ssh link then:\n",
    "$ git remote add origin git@github.com:JakeJackson22/Code_Snippets.git\n",
    "\n",
    "#To check if worked\n",
    "$ git remote -v\n",
    "\n",
    "#Add code to show how to set up ssh...\n",
    "#To check ssh key pairs that already exist\n",
    "$ ls -al ~/.ssh\n",
    "\n",
    "#To push the changes made on local to remote on github (will ask for password)\n",
    "$ git push origin main\n",
    "\n",
    "#To pull changes made to the remote on github to local\n",
    "$ git pull origin main"
   ]
  }
 ],
 "metadata": {
  "kernelspec": {
   "display_name": "Python (scanpy_louise)",
   "language": "python",
   "name": "scanpy_louise"
  },
  "language_info": {
   "codemirror_mode": {
    "name": "ipython",
    "version": 3
   },
   "file_extension": ".py",
   "mimetype": "text/x-python",
   "name": "python",
   "nbconvert_exporter": "python",
   "pygments_lexer": "ipython3",
   "version": "3.8.18"
  }
 },
 "nbformat": 4,
 "nbformat_minor": 5
}
