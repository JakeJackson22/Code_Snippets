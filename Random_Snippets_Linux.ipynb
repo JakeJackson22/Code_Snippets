{
 "cells": [
  {
   "cell_type": "markdown",
   "id": "e4d9f5ad-a03e-4f2b-881b-323af4d4c3ee",
   "metadata": {},
   "source": [
    "# Random snippets: Linux"
   ]
  },
  {
   "cell_type": "code",
   "execution_count": null,
   "id": "1f7fbac7-24b3-4686-919b-c67e4fbbb990",
   "metadata": {},
   "outputs": [],
   "source": [
    "#On Jhub\n",
    "$ ssh jj19@farm5-login.internal.sanger.ac.uk"
   ]
  },
  {
   "cell_type": "code",
   "execution_count": null,
   "id": "ea86efca-5237-4c5a-946c-26185a1df9da",
   "metadata": {},
   "outputs": [],
   "source": [
    "#View a BAM file (have samtools) WARNING: WILL SHOW WHOLE FILE\n",
    "$ samtools view bamfile.bam\n",
    "\n",
    "#View start of BAM file\n",
    "$ samtools view bamfile.bam | head\n",
    "\n",
    "#View other file formats (including .fa)\n",
    "$ cat filename.fa\n",
    "\n",
    "#To choose number of characters/lines (1000 characters)\n",
    "$ cat filename.fa | head --bytes 1000"
   ]
  }
 ],
 "metadata": {
  "kernelspec": {
   "display_name": "Python (scanpy_louise)",
   "language": "python",
   "name": "scanpy_louise"
  },
  "language_info": {
   "codemirror_mode": {
    "name": "ipython",
    "version": 3
   },
   "file_extension": ".py",
   "mimetype": "text/x-python",
   "name": "python",
   "nbconvert_exporter": "python",
   "pygments_lexer": "ipython3",
   "version": "3.8.18"
  }
 },
 "nbformat": 4,
 "nbformat_minor": 5
}
