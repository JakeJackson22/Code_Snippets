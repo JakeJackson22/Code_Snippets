{
 "cells": [
  {
   "cell_type": "markdown",
   "id": "documented-hypothesis",
   "metadata": {},
   "source": [
    "# Rclone setup\n",
    "\n",
    "- Cellgen rclone documentation: https://cellgeni.readthedocs.io/en/latest/rclone.html#mount"
   ]
  },
  {
   "cell_type": "code",
   "execution_count": null,
   "id": "reflected-railway",
   "metadata": {},
   "outputs": [],
   "source": []
  },
  {
   "cell_type": "code",
   "execution_count": null,
   "id": "mighty-israeli",
   "metadata": {},
   "outputs": [],
   "source": []
  },
  {
   "cell_type": "code",
   "execution_count": null,
   "id": "found-supplement",
   "metadata": {},
   "outputs": [],
   "source": []
  },
  {
   "cell_type": "code",
   "execution_count": null,
   "id": "radical-trick",
   "metadata": {},
   "outputs": [],
   "source": []
  },
  {
   "cell_type": "code",
   "execution_count": null,
   "id": "composed-district",
   "metadata": {},
   "outputs": [],
   "source": []
  },
  {
   "cell_type": "code",
   "execution_count": null,
   "id": "sorted-david",
   "metadata": {},
   "outputs": [],
   "source": []
  },
  {
   "cell_type": "markdown",
   "id": "floral-sheep",
   "metadata": {},
   "source": [
    "## Sanger gcp cloud drive setup"
   ]
  },
  {
   "cell_type": "code",
   "execution_count": null,
   "id": "actual-spell",
   "metadata": {},
   "outputs": [],
   "source": [
    "# set up sanger google drive config\n",
    "\n",
    "# load rclone\n",
    "rclone config\n",
    "\n",
    "# make a new remote\n",
    "n\n",
    "\n",
    "# select a name\n",
    "sanger_gdrive\n",
    "\n",
    "# Select storage\n",
    "drive\n",
    "\n",
    "# Leave client_id as default by pressing enter\n",
    "\n",
    "# Leave client_secret as default by pressing enter\n",
    "\n",
    "# Select the scope\n",
    "1\n",
    "\n",
    "# Leave root_folder_id as default by pressing enter\n",
    "\n",
    "# Leave service_account_file as default by pressing enter\n",
    "\n",
    "# edit advance config\n",
    "n\n",
    "\n",
    "# use auto config\n",
    "n\n",
    "\n",
    "# Get token key:\n",
    " - see below"
   ]
  },
  {
   "cell_type": "code",
   "execution_count": null,
   "id": "irish-bangladesh",
   "metadata": {},
   "outputs": [],
   "source": []
  },
  {
   "cell_type": "markdown",
   "id": "coral-strength",
   "metadata": {},
   "source": [
    "# rclone v1.65.0\n",
    "- example below for jhub not on gcp-notebook\n",
    "- for gcp notebook change https://jhub.cellgeni.sanger.ac.uk/user/<USERNAME> to https://51754b665886eb97-dot-europe-west2.notebooks.googleusercontent.com/"
   ]
  },
  {
   "cell_type": "code",
   "execution_count": null,
   "id": "fuzzy-gospel",
   "metadata": {},
   "outputs": [],
   "source": [
    "when needing access token follow below:\n",
    "\n",
    "rclone config gives you similar to below in terminal 1:\n",
    "rclone authorize \"drive\" \"eyJzY29wZSI6ImRyaXZlIn0\"\n",
    "\n",
    "run the above code in a new terminal (terminal 2)\n",
    "\n",
    "the ouput will produce something like below\n",
    "Produced: http://127.0.0.1:53682/auth?state=C-mkfBfL0pPH95K5pi2Z1w\n",
    "\n",
    "take the above and modify into below format and paste in a new window\n",
    "replace:http://127.0.0.1:53682/      keep:auth?state=C-mkfBfL0pPH95K5pi2Z1w\n",
    "\n",
    "Output for new window:\n",
    "https://jhub.cellgeni.sanger.ac.uk/user/<USERNAME>/proxy/53682/auth?state=C-mkfBfL0pPH95K5pi2Z1w\n",
    "\n",
    "\n",
    "\n",
    "\n",
    "Click authorise from the pop up - this will give you an error page back, this is fine!\n",
    "\n",
    "\n",
    "Copy the error page which is similar to below:\n",
    "Produces error page with link: http://127.0.0.1:53682/?state=C-mkfBfL0pPH95K5pi2Z1w&code=4/0AfJohXmd_yYXz265RqAkwy74-RVQZ-aDUhu90SQL4iKUoJgw1HqiAkg-qNRa0K-TXBB0OQ&scope=https://www.googleapis.com/auth/drive\n",
    "\n",
    "Edit the error page link into below format:\n",
    "replace:http://127.0.0.1:53682/ with https://jhub.cellgeni.sanger.ac.uk/user/<USERNAME>/proxy/53682/\n",
    "\n",
    "Full Adaptation to: https://jhub.cellgeni.sanger.ac.uk/user/<USERNAME>/proxy/53682/?state=C-mkfBfL0pPH95K5pi2Z1w&code=4/0AfJohXmd_yYXz265RqAkwy74-RVQZ-aDUhu90SQL4iKUoJgw1HqiAkg-qNRa0K-TXBB0OQ&scope=https://www.googleapis.com/auth/drive\n",
    "\n",
    "\n",
    "\n",
    "\n",
    "Paste above into a new window, this will produce a page which says rclone link successful\n",
    "\n",
    "\n",
    "Go back to your second terminal and copy the token it made similar to below:\n",
    "eyJ0b2tlbiI6IntcImFjY2Vzc190b2tlblwiOlwieWEyOS5hMEFmQl9ieUR3QTk5VE8zeVhEUTJVWThURTBzTGxLc2wzalMwTHZ3SWp6S20yMUFsQ2I5OUZFU2R1dllrZHNpMjZmYjFtblNlNGlENzlfLUVVc0s3YmkyWmRIdlBvbl9vbjBERUdqTHptQVpEMXMyelFfWF90RzlrUU5VcmgwUnV3RkdFaTFTMGcxVWV3SWVZUWR0WTA4MFFVRnp4QUdmd1VkNXluYUNnWUtBU0FTQVJFU0ZRSEdYMk1pb25fOFhWbXRhMC1aaVBZMlo1c0VxQTAxNzFcIixcInRva2VuX3R5cGVcIjpcIkJlYXJlclwiLFwicmVmcmVzaF90b2tlblwiOlwiMS8vMDNCd1FiOHFkSmtWd0NnWUlBUkFBR0FNU053Ri1MOUlySHVXaURjZW5IV08wTXhnXzhNNHN4VjgtX0NSZHc4RjJmc1hSZFdOM2VjZFdwcTNZTHRhN1RlQ1NnVUFOcWRrWjBBNFwiLFwiZXhwaXJ5XCI6XCIyMDIzLTExLTI3VDE3OjM0OjA0Ljc4NDcyNzE0OFpcIn0ifQ\n",
    "\n",
    "\n",
    "Paste this into your first terminal as the access token\n",
    "\n",
    "\n",
    "Continue with classic setup"
   ]
  },
  {
   "cell_type": "code",
   "execution_count": null,
   "id": "acting-paris",
   "metadata": {},
   "outputs": [],
   "source": []
  },
  {
   "cell_type": "code",
   "execution_count": null,
   "id": "sensitive-festival",
   "metadata": {},
   "outputs": [],
   "source": []
  }
 ],
 "metadata": {
  "kernelspec": {
   "display_name": "",
   "name": ""
  },
  "language_info": {
   "name": ""
  }
 },
 "nbformat": 4,
 "nbformat_minor": 5
}
